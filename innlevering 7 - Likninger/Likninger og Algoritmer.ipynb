{
 "cells": [
  {
   "cell_type": "markdown",
   "metadata": {},
   "source": [
    "# Likninger og algoritmer"
   ]
  },
  {
   "cell_type": "markdown",
   "metadata": {},
   "source": [
    "## Metode 1: Halveringmetoden"
   ]
  },
  {
   "cell_type": "code",
   "execution_count": 2,
   "metadata": {},
   "outputs": [
    {
     "name": "stdout",
     "output_type": "stream",
     "text": [
      "[2.0]\n",
      "2.000000000214266\n"
     ]
    }
   ],
   "source": [
    "\n",
    "DEFAULT_a = -100\n",
    "DEFAULT_b = 100\n",
    "DEFAULT_TOL = 1e-5\n",
    "\n",
    "def f(x):\n",
    "    #return x ** 2 - 4\n",
    "    return x - 2\n",
    "\n",
    "def harKryssetX(f, a, b):\n",
    "    # f : en funksjon\n",
    "    # a : et punkt på funksjonen\n",
    "    # b : et punkt på funksjonen\n",
    "    return f(a) * f(b) < 0\n",
    "\n",
    "def halveringsmetoden(f, a = DEFAULT_a, b = DEFAULT_b, tol = DEFAULT_TOL):\n",
    "    # f : funksjon for å finne nullpunktet\n",
    "    # a : starten på et interval\n",
    "    # b : slutten på et iunterval\n",
    "    # tol : Så nøyaktig vi vil ha svaret\n",
    "    \n",
    "    if not harKryssetX(f, a, b):\n",
    "        return False\n",
    "    m = (a + b) / 2\n",
    "    while (abs(f(m)) > tol):\n",
    "        m = (a + b) / 2\n",
    "        if harKryssetX(f, a, m):\n",
    "            b = m\n",
    "        elif harKryssetX(f, m, b):\n",
    "            a = m\n",
    "    return m\n",
    "\n",
    "def stigning(f, x, h = 1e-5):\n",
    "    # f : Et fuksjonsuttrykk\n",
    "    # x : Punktet der vi skal finne stigningen til funksjonen\n",
    "    # h : Et lite tall for å regne stigningen i punktet\n",
    "    \n",
    "    return (\n",
    "        ((f(x + h) - f(x    )) / h) + \n",
    "        ((f(x    ) - f(x - h)) / h)\n",
    "    ) / 2\n",
    "\n",
    "def derivasjonsmetoden(f, a, tol = DEFAULT_TOL, k = 1e-2):\n",
    "    # f : Et funksjonsuttrykk for å finne et nullpunkt\n",
    "    # a : Et punkt på funksjonen\n",
    "    # tol : toleransen på nøyaktigheten på nullpunktet\n",
    "    # k : en konstant for å bestemme hastigheten og nøyaktigheten på å finne nullunktet\n",
    "    \n",
    "    sisteStigning = 0\n",
    "    while (abs(f(a)) > tol):\n",
    "        a -= stigning(f, a) * k\n",
    "    return a\n",
    "\n",
    "def nullpunkter(f, a = DEFAULT_a, b = DEFAULT_b, punkter = 50, tol = DEFAULT_TOL):\n",
    "    # f : funksjonen vi skal finne nullpunktene til\n",
    "    # a : starten på et interval\n",
    "    # b : slutten på et interval\n",
    "    # punkter : mengden punker for å lete etter nullpunkter\n",
    "    # tol : Så nøyaktig vi vil ha svaret\n",
    "    \n",
    "    ret = []\n",
    "    \n",
    "    avstand = int((b - a) / punkter)\n",
    "    for i in range(a, b, avstand):\n",
    "        a_2 = i\n",
    "        if f(a_2) == 0:\n",
    "            ret.append(a_2)\n",
    "        else:\n",
    "            b_2 = i + avstand\n",
    "            if harKryssetX(f, a_2, b_2):\n",
    "                r = halveringsmetoden(f, a_2, b_2, tol)\n",
    "                if (not (r == False)):\n",
    "                    ret.append(r)\n",
    "    \n",
    "    return ret\n",
    "\n",
    "r = nullpunkter(f)\n",
    "print(r)\n",
    "\n",
    "r = derivasjonsmetoden(f, 10)\n",
    "print(r)"
   ]
  },
  {
   "cell_type": "markdown",
   "metadata": {},
   "source": [
    "## Newtons metode\n",
    "\n",
    "Den tilnærmer nullpunktet ved å se på tangentene og hvor de har nullpunkter.\n",
    "\n",
    "Fremgangsmåte\n",
    "Vi har en kontinuerlig funksjon f.  Vi tilnærmer nullpunktet til f med nullpunktet tuk tangentene til f(x), T(x)\n",
    "\n",
    "Ligningen til en tangent (fra ettpunktsformelen):\n",
    "\n",
    "$y = f'(x_1)(x - x_1) + f(x_1)$\n",
    "\n",
    "Videre må vi vite når tangenten blir 0, så da setter vi:\n",
    "\n",
    "$x = x_1 - \\frac{f(x_1)}{f'(x_1)}$\n",
    "\n",
    "Mer generelt blir det:\n",
    "\n",
    "$x_{n + 1} = x_n - \\frac{f(x_n)}{f'(x_n)}$"
   ]
  },
  {
   "cell_type": "code",
   "execution_count": 3,
   "metadata": {},
   "outputs": [
    {
     "name": "stdout",
     "output_type": "stream",
     "text": [
      "2.0000000929222965\n"
     ]
    }
   ],
   "source": [
    "\n",
    "\n",
    "\n",
    "def f(x):\n",
    "    return x**2 - 4\n",
    "\n",
    "def deriver(f, x, h = 1e-5):\n",
    "    # f : Et fuksjonsuttrykk\n",
    "    # x : Punktet der vi skal finne stigningen til funksjonen\n",
    "    # h : Et lite tall for å regne stigningen i punktet\n",
    "    \n",
    "    return (\n",
    "        ((f(x + h) - f(x    )) / h) + \n",
    "        ((f(x    ) - f(x - h)) / h)\n",
    "    ) / 2\n",
    "\n",
    "def newtonsMetode(f, a = None, tol = 1e-5):\n",
    "    # f : en funksjon som vi skal finne nullpunktene til\n",
    "    # a : Et punkt der vi starter å lete\n",
    "    # tol : toleransen på hvor nærme vi kan være 0\n",
    "    \n",
    "    if a is None:\n",
    "        a = 0\n",
    "        loops = 0\n",
    "        while (deriver(f, a) == 0):\n",
    "            a += 1\n",
    "            loops += 1\n",
    "            if loops > 10:\n",
    "                return False\n",
    "    \n",
    "    loops = 0\n",
    "    while (abs(f(a)) > tol):\n",
    "        fder = deriver(f, a)\n",
    "        \n",
    "        if (loops > 1000 or fder == 0):\n",
    "            return False\n",
    "        loops += 1\n",
    "        \n",
    "        a = a - (f(a) / fder)\n",
    "    \n",
    "    return a\n",
    "\n",
    "r = newtonsMetode(f)\n",
    "print(r)"
   ]
  },
  {
   "cell_type": "markdown",
   "metadata": {},
   "source": [
    "Ulemper med metoden er bunnpunkter over x-aksen eller toppunkter over x-aksen er at man kan blir \"fanget\" i ekstremalpunktet, da metoden ikke konvergerer mot 0.  I tillegg må vi vite den deriverte til funksjonen.\n",
    "\n",
    "Fordelen er at den konvergerer raskt til nullpunktet når alt funker."
   ]
  },
  {
   "cell_type": "code",
   "execution_count": 10,
   "metadata": {},
   "outputs": [
    {
     "name": "stdout",
     "output_type": "stream",
     "text": [
      "2.0000000929222965\n",
      "[-2.0000000050461595]\n"
     ]
    }
   ],
   "source": [
    "\n",
    "\n",
    "\n",
    "def f(x):\n",
    "    return x**2 - 4\n",
    "\n",
    "def deriver(f, x, h = 1e-5):\n",
    "    # f : Et fuksjonsuttrykk\n",
    "    # x : Punktet der vi skal finne stigningen til funksjonen\n",
    "    # h : Et lite tall for å regne stigningen i punktet\n",
    "    \n",
    "    return (\n",
    "        ((f(x + h) - f(x    )) / h) + \n",
    "        ((f(x    ) - f(x - h)) / h)\n",
    "    ) / 2\n",
    "\n",
    "def newtonsMetode(f, a = None, tol = 1e-5):\n",
    "    # f : en funksjon som vi skal finne nullpunktene til\n",
    "    # a : Et punkt der vi starter å lete\n",
    "    # tol : toleransen på hvor nærme vi kan være 0\n",
    "    \n",
    "    if a is None:\n",
    "        a = 0\n",
    "        loops = 0\n",
    "        while (deriver(f, a) == 0):\n",
    "            a += 1\n",
    "            loops += 1\n",
    "            if loops > 10:\n",
    "                return False\n",
    "    \n",
    "    loops = 0\n",
    "    while (abs(f(a)) > tol):\n",
    "        fder = deriver(f, a)\n",
    "        \n",
    "        if (loops > 1000 or fder == 0):\n",
    "            return False\n",
    "        loops += 1\n",
    "        \n",
    "        a = a - (f(a) / fder)\n",
    "    \n",
    "    return a\n",
    "\n",
    "r = newtonsMetode(f)\n",
    "print(r)\n",
    "\n",
    "def contains(l, elm, tol = 1e-3):\n",
    "    # l : en liste som den søker i\n",
    "    # elm : Elementet den søker etter\n",
    "    # tol : toleransen, hvor nære elementet kan være med et av elementene i lista\n",
    "    for i in l:\n",
    "        if abs(i) - abs(elm) < tol:\n",
    "            return True\n",
    "    \n",
    "    return False\n",
    "\n",
    "def nullpunkter(f, a = -50, b = 50, punkter = 50, tol = 1e-5):\n",
    "    # f : funksjonen vi skal finne nullpunktene til\n",
    "    # a : starten på et interval\n",
    "    # b : slutten på et interval\n",
    "    # punkter : mengden punker for å lete etter nullpunkter\n",
    "    # tol : Så nøyaktig vi vil ha svaret\n",
    "    \n",
    "    ret = []\n",
    "    \n",
    "    avstand = int((b - a) / punkter)\n",
    "    for i in range(a, b, avstand):\n",
    "        a_2 = i\n",
    "        if (f(a_2) == 0):\n",
    "            add = True\n",
    "            for i in range(len(ret)):\n",
    "                if ret[i] == a_2:\n",
    "                    add = False\n",
    "            if add:\n",
    "                ret.append(a_2)\n",
    "        else:\n",
    "            r = newtonsMetode(f, a_2, tol)\n",
    "            if (not (r == False) and not contains(ret, r)):\n",
    "                ret.append(r)\n",
    "    \n",
    "    return ret\n",
    "\n",
    "r = nullpunkter(f, punkter = 10)\n",
    "print(r)"
   ]
  },
  {
   "cell_type": "markdown",
   "metadata": {},
   "source": [
    "## Skytespurver\n",
    "\n",
    "### a)\n",
    "Uttrykket for høyden til kula er som føler:\n",
    "\n",
    "$$y(t) = v_0 \\sin{\\theta} t - \\frac{1}{2} g t$$\n",
    "\n",
    "der $v_0$ er startfarten, $\\theta$ er utskytningsvinkelen, $t$ er tiden og $g$ er $9.81 m/s^2$\n",
    "\n",
    "Denne formelen er en veiformel som viser høyden.  Positivretning er oppover.\n",
    "Dette vet vi siden akselerasjonen er negativ, mer presist $-g$.  Da vil akselerasjonen tilbakelegge en strekning på $-\\frac{1}{2}g t$\n",
    "\n",
    "Utskytngshastigheten oppover er $v_0  \\sin{\\theta}$.  Dette vet vi ved å bruke litt trigonometri.  Vi kan tenke oss en rettvinklet trekant med en hyppotenus på $v_0$ og en vinkel ${\\theta}$.  Dersom vi lar en av katetene være vannrett, vil den andre kateten være loddrett.  Denne loddrette katenen har lengden til utskytningshastigheten i y-retning.  Lengden på denne blir da $v_0 \\sin{\\theta}$"
   ]
  },
  {
   "cell_type": "markdown",
   "metadata": {},
   "source": [
    "### b)\n",
    "\n",
    "Strekningen ballen blir skutt er:\n",
    "$$x(t) = v_0 \\cos{\\theta} * t$$\n",
    "\n",
    "For å forstå hvorfor x(t) er strekninger, kan vi se for oss en rettvinklet trekant.  Hypotenusen i trekanten har lengden $v_0$ og den enevinkelen er $\\theta$.  Da vil hosliggende katet bli $v_0 \\cos{\\theta}$.  Hosliggende katet vil være farten til kula i x retningen."
   ]
  },
  {
   "cell_type": "markdown",
   "metadata": {},
   "source": [
    "## c)"
   ]
  },
  {
   "cell_type": "code",
   "execution_count": 5,
   "metadata": {},
   "outputs": [
    {
     "name": "stdout",
     "output_type": "stream",
     "text": [
      "1.1340077160384798\n",
      "1.1340073188071464\n"
     ]
    }
   ],
   "source": [
    "import math\n",
    "\n",
    "g = 9.81 # m / s^2\n",
    "# gravitisjonskonstanten\n",
    "\n",
    "def setVariabler(v0, a):\n",
    "    # v0 : er startfarten til kula\n",
    "    # a : (angle) er utskytningsvinkelen\n",
    "    \n",
    "    def x(t):\n",
    "        return v0 * math.cos(a) * t\n",
    "    \n",
    "    def y(t):\n",
    "        return v0 * math.sin(a) * t - 1 / 2 * g * t ** 2\n",
    "    \n",
    "    return (x, y)\n",
    "\n",
    "def trefferBakken(v0, a):\n",
    "    # v0 : er startfarten til kula\n",
    "    # a : (angle) er utskytningsvinkelen\n",
    "    \n",
    "    x, y = setVariabler(v0, a)\n",
    "    \n",
    "    # Vi må løse likningen y(t) = 0\n",
    "    r = newtonsMetode(y, 10000)\n",
    "    return r\n",
    "\n",
    "v0 = 18\n",
    "a = math.pi / 10\n",
    "\n",
    "r = trefferBakken(v0, a)\n",
    "print(r)\n",
    "print(36 * math.sin(a) / g)"
   ]
  },
  {
   "cell_type": "markdown",
   "metadata": {},
   "source": [
    "## d)"
   ]
  },
  {
   "cell_type": "code",
   "execution_count": 6,
   "metadata": {},
   "outputs": [
    {
     "name": "stdout",
     "output_type": "stream",
     "text": [
      "tid:\t 1.1340077160384798\n",
      "lengde:\t 19.413097701612845\n"
     ]
    }
   ],
   "source": [
    "def trefferBakken(v0, a):\n",
    "    # v0 : er startfarten til kula\n",
    "    # a : (angle) er utskytningsvinkelen\n",
    "    \n",
    "    x, y = setVariabler(v0, a)\n",
    "    \n",
    "    # Vi må løse likningen y(t) = 0\n",
    "    r = newtonsMetode(y, 10000)\n",
    "    return (r, x(r))\n",
    "\n",
    "t, l = trefferBakken(v0, a)\n",
    "print(\"tid:\\t {}\\nlengde:\\t {}\".format(t, l))"
   ]
  },
  {
   "cell_type": "markdown",
   "metadata": {},
   "source": [
    "## e)"
   ]
  },
  {
   "cell_type": "code",
   "execution_count": 7,
   "metadata": {},
   "outputs": [
    {
     "name": "stdout",
     "output_type": "stream",
     "text": [
      "28.60267388748348\n",
      "31.411040905177526\n",
      "33.0275242921201\n",
      "28.602673912136215\n",
      "Vinkelen 0.7853981633974483 får ballen til å reise 33.0275242921201 på 2.5948873769735052, som er lengst blant de spesifiserte vinklene\n"
     ]
    }
   ],
   "source": [
    "\n",
    "vinkler = [\n",
    "    math.pi / 6,\n",
    "    math.pi / 5,\n",
    "    math.pi / 4,\n",
    "    math.pi / 3\n",
    "]\n",
    "\n",
    "#lengder = []\n",
    "lengstLengde = 0\n",
    "tid = 0\n",
    "vinkel = None\n",
    "\n",
    "for v in vinkler:\n",
    "    t, l = trefferBakken(v0, v)\n",
    "    print(l)\n",
    "    #lengder.append((v, l))\n",
    "    if (lengstLengde < l):\n",
    "        lengstLengde = l\n",
    "        vinkel = v\n",
    "        tid = t\n",
    "\n",
    "print(f\"Vinkelen {vinkel} får ballen til å reise {lengstLengde} på {tid}, som er lengst blant de spesifiserte vinklene\")\n"
   ]
  },
  {
   "cell_type": "markdown",
   "metadata": {},
   "source": [
    "## f)"
   ]
  },
  {
   "cell_type": "markdown",
   "metadata": {},
   "source": [
    "Målinger:\n",
    "\n",
    "v0 : startfart\n",
    "\n",
    "a  : utskytningsvinkel\n",
    "\n",
    "l  : lengde\n",
    "\n",
    "----\n",
    "v0 = 4.65\n",
    "\n",
    "a = 45\n",
    "\n",
    "l = 2.55\n",
    "\n",
    "----\n",
    "\n",
    "\n",
    "v0 = 4.78\n",
    "\n",
    "a = 45\n",
    "\n",
    "l = 2.60\n",
    "\n",
    "----\n",
    "\n",
    "v0 = 4.72\n",
    "\n",
    "a = 45\n",
    "\n",
    "l = 2.60"
   ]
  },
  {
   "cell_type": "markdown",
   "metadata": {},
   "source": [
    "### Sammenligning"
   ]
  },
  {
   "cell_type": "code",
   "execution_count": 14,
   "metadata": {},
   "outputs": [
    {
     "name": "stdout",
     "output_type": "stream",
     "text": [
      "\n",
      "Forsøk 1\n",
      "Målt lengde       : 2.55\n",
      "Prediktert lengde : 2.204128491800598\n",
      "avvik             : -0.15691984813319682\n",
      "\n",
      "Forsøk 2\n",
      "Målt lengde       : 2.6\n",
      "Prediktert lengde : 2.329092795739613\n",
      "avvik             : -0.11631447435496418\n",
      "\n",
      "Forsøk 3\n",
      "Målt lengde       : 2.6\n",
      "Prediktert lengde : 2.2709888276274333\n",
      "avvik             : -0.14487573358795172\n"
     ]
    }
   ],
   "source": [
    "resultat = [\n",
    "    {\n",
    "        \"v0\": 4.65,\n",
    "        \"a\": 45,\n",
    "        \"l\": 2.55\n",
    "    },\n",
    "    {\n",
    "        \"v0\": 4.78,\n",
    "        \"a\": 45,\n",
    "        \"l\": 2.6\n",
    "    },\n",
    "    {\n",
    "        \"v0\": 4.72,\n",
    "        \"a\": 45,\n",
    "        \"l\": 2.6\n",
    "    }\n",
    "]\n",
    "\n",
    "for i in range(len(resultat)):\n",
    "    res = resultat[i]\n",
    "    \n",
    "    print(\"\\nForsøk {}\".format(i + 1))\n",
    "    \n",
    "    simT, simL = trefferBakken(res[\"v0\"], res[\"a\"] / 180 * math.pi)\n",
    "    \n",
    "    avvik = (simL - res[\"l\"]) / simL\n",
    "    \n",
    "    print(\"Målt lengde       : {}\".format(res[\"l\"]))\n",
    "    print(\"Prediktert lengde : {}\".format(simL))\n",
    "    print(\"avvik             : {}\".format(avvik))"
   ]
  },
  {
   "cell_type": "markdown",
   "metadata": {},
   "source": [
    "## Diskusjon\n",
    "\n",
    "Det er en del avvik mellom predikert lengde, og målt lengde.  Generelt er målingene lenger.\n",
    "\n",
    "### Feilkilder\n",
    "\n",
    "En mulig feilkilde er at ballen ikke ble skutt opp fra samme høyde som den lander på.  Dette tar ikke simulasjonen hensyn til.\n",
    "\n",
    "### Måleusikkerhet\n",
    "\n",
    "Både vinklen og lengden har ganske stor måleusikkerhet.  Det var utfordrende å måle vinkelen og enda mer utfordrende å måle hvor kula lander.\n",
    "\n",
    "## Konklusjon\n",
    "\n",
    "Prediksjonen er ikke helt på gjorde med tanke på målingene, men det er vanskelig å si om prediksjonen er god eller ikke, siden målingene er veldig upresise.  Men vi kan si at Prediksjonen er inne på noe."
   ]
  },
  {
   "cell_type": "code",
   "execution_count": null,
   "metadata": {},
   "outputs": [],
   "source": []
  }
 ],
 "metadata": {
  "kernelspec": {
   "display_name": "Python 3",
   "language": "python",
   "name": "python3"
  },
  "language_info": {
   "codemirror_mode": {
    "name": "ipython",
    "version": 3
   },
   "file_extension": ".py",
   "mimetype": "text/x-python",
   "name": "python",
   "nbconvert_exporter": "python",
   "pygments_lexer": "ipython3",
   "version": "3.7.4"
  }
 },
 "nbformat": 4,
 "nbformat_minor": 2
}
