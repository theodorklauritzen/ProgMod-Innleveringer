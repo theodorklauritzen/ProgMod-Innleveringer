{
 "cells": [
  {
   "cell_type": "markdown",
   "metadata": {},
   "source": [
    "# Modeleringsprosjekt 2020\n",
    "\n",
    "# Oppagve 5: Numerisk integrasjon"
   ]
  },
  {
   "cell_type": "markdown",
   "metadata": {},
   "source": [
    "Integrasjon er en metode i mattematikk mankan bruke på å finne arealet under grafen.  I analytisk matte bruker man anti-derivasjon til å finne dette arealet, men i numerisk matte er det flere utlike metoder.  I numerisk matte holder man seg kun til bestemte integraler.  Dette betyr at man integrerer en funksjon i et interval.  Da finner man arealet under grafen til funksjonen i dette intervallet.  Under skal vi se ulike metoder for å gjøre dette."
   ]
  },
  {
   "cell_type": "markdown",
   "metadata": {},
   "source": [
    "## Rektangelmetoden\n",
    "\n",
    "### Teori\n",
    "\n",
    "Rektangelmetoden gåut ut på at man setter rektangler under grafen med en liten bredde og en høyde tilsvarende funksjonsverdien i et punkt.  Legger man sammen arealet av disse rektanglene får man noe som tilsvarer arealet under grafen.  Og hvis man lar antall rektangler gå mot uendelig vil arealet av dem nærme seg arealet under grafen.  Denne metoden for å finne det bestemte integralet kales Riemann sum.\n",
    "\n",
    "<img src=\"https://upload.wikimedia.org/wikipedia/commons/thumb/c/c9/LeftRiemann2.svg/1280px-LeftRiemann2.svg.png\" alt=\"Riemann sum illustrasjon\" style=\"width: 200px; float: left\"/>\n",
    "Figuren er en illustrasjon av at rektangler under grafen kan tilnærme arealet under grafen."
   ]
  },
  {
   "cell_type": "markdown",
   "metadata": {},
   "source": [
    "Det mattematiske uttrykket for dette vil være slik:\n",
    "\n",
    "$$\\int_{a}^{b} {f(x) dx} \\approx \\lim_{N \\rightarrow \\infty} (\\Delta x \\sum_{i = 0}^{N} {f(a + i * \\Delta x)})$$\n",
    "\n",
    "Der:\n",
    "\n",
    "$$\\Delta x = \\frac{b - a}{N}$$\n",
    "\n",
    "I disse uttrykkene representerer $N$ antall rektangler, $a$ er starten på det bestemte integralet, $b$ er slutten på det bestemte integralet og $\\Delta x$ er bredden på rektangelene.\n",
    "\n",
    "I summen over kunne vi mulitplisert med $\\Delta x$ med hvert ledde i summen. Da ville vi lagt sammen alle arealene, men sånn det er skrevet nå legger vi sammen høyden i alle rektanglene og multipliserer med bredden etter på.  Dette gjør det enklere å regne og får koden til å gå bitte litt raskere."
   ]
  },
  {
   "cell_type": "markdown",
   "metadata": {},
   "source": [
    "### Kode"
   ]
  },
  {
   "cell_type": "code",
   "execution_count": 1,
   "metadata": {},
   "outputs": [],
   "source": [
    "def RektangelMetoden(f, a, b, N = 100000):\n",
    "    # f : En funksjon å integrere\n",
    "    # a : Starten på det bestemte integralet\n",
    "    # b : Slutten på det bestemte integralet\n",
    "    # N : Antall rektangler\n",
    "    \n",
    "    # Bredden per rektangel\n",
    "    dx = (b - a) / N\n",
    "    \n",
    "    # Arealet under grafen\n",
    "    A = 0\n",
    "    \n",
    "    # Loop gjennom alle rekangelene\n",
    "    for i in range(N):\n",
    "        # Legg sammen høyden i rektanglene\n",
    "        A += f(a + i * dx)\n",
    "    \n",
    "    # Multipliser med bredden per integral for å finne arealet\n",
    "    A *= dx\n",
    "\n",
    "    # returner arealet under grafen f\n",
    "    return A"
   ]
  },
  {
   "cell_type": "markdown",
   "metadata": {},
   "source": [
    "Dette kan vi teste med en enkel funksjon som $f(x) = x^2$"
   ]
  },
  {
   "cell_type": "code",
   "execution_count": 2,
   "metadata": {},
   "outputs": [
    {
     "name": "stdout",
     "output_type": "stream",
     "text": [
      "2.333318333350027\n"
     ]
    }
   ],
   "source": [
    "def f(x):\n",
    "    return x**2\n",
    "\n",
    "Areal = RektangelMetoden(f, 1, 2)\n",
    "print(Areal)"
   ]
  },
  {
   "cell_type": "markdown",
   "metadata": {},
   "source": [
    "Dette svaret er nærme det analytiske svaret som er på $\\frac{7}{3} \\approx 2.3333333333333$"
   ]
  },
  {
   "cell_type": "markdown",
   "metadata": {},
   "source": [
    "### Ulikt antall rektangler\n",
    "Hvor nærme vi kommer avgjøres av funksjonen og hvor mange rektangler vi har.  Under prøver vi andre funksjoner med ulikt antall rektangler."
   ]
  },
  {
   "cell_type": "code",
   "execution_count": 3,
   "metadata": {},
   "outputs": [
    {
     "name": "stdout",
     "output_type": "stream",
     "text": [
      "Antall rektangler | f(x)       | g(x)       | h(x) \n",
      "------------------+------------+------------+------------\n",
      "                1 | 2.0000000  | -4.0000000 | 0.4000000  \n",
      "               10 | 7.8800000  | 1.4000000  | 0.8070029  \n",
      "              100 | 8.5868000  | 1.9400000  | 0.8596309  \n",
      "             1000 | 8.6586680  | 1.9940000  | 0.8650172  \n",
      "            10000 | 8.6658667  | 1.9994000  | 0.8655570  \n",
      "           100000 | 8.6665867  | 1.9999400  | 0.8656110  \n",
      "          1000000 | 8.6666587  | 1.9999940  | 0.8656164  \n"
     ]
    }
   ],
   "source": [
    "def g(x):\n",
    "    return 3 * x - 5\n",
    "\n",
    "def h(x):\n",
    "    return 0.1 * 2 ** x\n",
    "\n",
    "a = 1\n",
    "b = 3\n",
    "\n",
    "print(\"Antall rektangler | f(x)       | g(x)       | h(x) \")\n",
    "print(\"------------------+------------+------------+------------\")\n",
    "\n",
    "for i in range(7):\n",
    "    rektangler = 10 ** i\n",
    "    fverdi = RektangelMetoden(f, a, b, rektangler)\n",
    "    gverdi = RektangelMetoden(g, a, b, rektangler)\n",
    "    hverdi = RektangelMetoden(h, a, b, rektangler)\n",
    "    \n",
    "    print(\"{:>17} | {:<10.7f} | {:<10.7f} | {:<10.7f} \".format(rektangler, fverdi, gverdi, hverdi))"
   ]
  },
  {
   "cell_type": "markdown",
   "metadata": {},
   "source": [
    "De analytiske svaret for f(x) er $\\frac{26}{3} \\approx 8.666666667$, for g(x) er det $2$ og for h(x) er det $\\approx 0.8656170245333$\n",
    "\n",
    "Vi ser tydelig at desto flere rektangler vi har desto nærmere komme vi det analytiske svaret.  Likevel på grunn av at float tall kan bli upresiste med mange desimaler, kan det hende at hvis $\\Delta x$ blir alt for liten kan den bli mindr epresis igjen."
   ]
  },
  {
   "cell_type": "markdown",
   "metadata": {},
   "source": [
    "### Variasjoner av metoden\n",
    "\n",
    "<img src=\"https://upload.wikimedia.org/wikipedia/commons/thumb/4/45/RightRiemann2.svg/1280px-RightRiemann2.svg.png\" style=\"width: 200px; float: left;\">For å forbedre metoden kan man flytte på punktet der man måler høyden.  Firguren til venstre er et eksempel der man måler høyden på grafen på høyre siden av rektangelet i steden for på venstre siden.  Ved å kombinere ulike metoder kan mna få et enda mer presist resultat.  En kode med støtte for dette kan se slik ut"
   ]
  },
  {
   "cell_type": "code",
   "execution_count": 5,
   "metadata": {},
   "outputs": [],
   "source": [
    "def RektangelMetoden(f, a, b, N = 100000, regel = \"venstre\"):\n",
    "    # f : En funksjon å integrere\n",
    "    # a : Starten på det bestemte integralet\n",
    "    # b : Slutten på det bestemte integralet\n",
    "    # N : Antall rektangler\n",
    "    # regel : Hvor man skal regne ut høyden [\"venstre\" (Standard) | \"midten\" | \"hoyre\" | float mellom 0 og 1]\n",
    "\n",
    "    # Regne ut hva man må legge til i for å regne høyden på riktig sted\n",
    "    i_regel = 0\n",
    "    if type(regel) == float and 0 <= regel and regel <= 1:\n",
    "        i_regel = regel\n",
    "    elif regel.lower() == \"midten\":\n",
    "        i_regel = 0.5\n",
    "    elif regel.lower() == \"hoyre\":\n",
    "        i_regel = 1\n",
    "    elif regel.lower() != \"venstre\":\n",
    "        # Kast en feil melding hvis regel argumentet er brukt feil\n",
    "        raise Exception(f\"Regel må være [\\\"venstre\\\" (Standard) | \\\"midten\\\" | \\\"hoyre\\\" | float mellom 0 og 1], men det ble spesifisert {regel}\")\n",
    "\n",
    "    # Bredden per rektangel\n",
    "    dx = (b - a) / N\n",
    "    # Arealet under grafen\n",
    "    A = 0\n",
    "\n",
    "    # Loop gjennom alle rekangelene\n",
    "    for i in range(N):\n",
    "        # Legg sammen høyden i rektanglene\n",
    "        A += f(a + (i + i_regel) * dx)\n",
    "\n",
    "    # Multipliser med bredden per integral for å finne arealet\n",
    "    A *= dx\n",
    "\n",
    "    # returner arealet under grafen f\n",
    "    return A"
   ]
  },
  {
   "cell_type": "markdown",
   "metadata": {},
   "source": [
    "Over kan vi se at om vi spesifiserer venstre får vi samme resultat som tidligere, men hvis vi spesifiserer midten måler vi på midten, eller på høyre side hvis vi spesiferer hoyre.  Under kan vi se resultatet av dette."
   ]
  },
  {
   "cell_type": "code",
   "execution_count": 6,
   "metadata": {},
   "outputs": [
    {
     "name": "stdout",
     "output_type": "stream",
     "text": [
      "Venstre: 0.3333283333499996\n",
      "Midten : 0.3333333333249928\n",
      "Hoyre  : 0.3333383333499996\n"
     ]
    }
   ],
   "source": [
    "print(\"Venstre:\", RektangelMetoden(f, 0, 1, regel = \"venstre\"))\n",
    "print(\"Midten :\", RektangelMetoden(f, 0, 1, regel = \"midten\"))\n",
    "print(\"Hoyre  :\", RektangelMetoden(f, 0, 1, regel = \"hoyre\"))"
   ]
  },
  {
   "cell_type": "markdown",
   "metadata": {},
   "source": [
    "Her ser vi at resultatet er veldig likt, men dersom vi senker antall rektangler får vi ganske ulike svar."
   ]
  },
  {
   "cell_type": "code",
   "execution_count": 7,
   "metadata": {},
   "outputs": [
    {
     "name": "stdout",
     "output_type": "stream",
     "text": [
      "Venstre: 0.24000000000000005\n",
      "Midten : 0.33000000000000007\n",
      "Hoyre  : 0.44000000000000006\n"
     ]
    }
   ],
   "source": [
    "print(\"Venstre:\", RektangelMetoden(f, 0, 1, 5, \"venstre\"))\n",
    "print(\"Midten :\", RektangelMetoden(f, 0, 1, 5, \"midten\"))\n",
    "print(\"Hoyre  :\", RektangelMetoden(f, 0, 1, 5, \"hoyre\"))"
   ]
  },
  {
   "cell_type": "code",
   "execution_count": null,
   "metadata": {},
   "outputs": [],
   "source": []
  }
 ],
 "metadata": {
  "kernelspec": {
   "display_name": "Python 3",
   "language": "python",
   "name": "python3"
  },
  "language_info": {
   "codemirror_mode": {
    "name": "ipython",
    "version": 3
   },
   "file_extension": ".py",
   "mimetype": "text/x-python",
   "name": "python",
   "nbconvert_exporter": "python",
   "pygments_lexer": "ipython3",
   "version": "3.7.4"
  }
 },
 "nbformat": 4,
 "nbformat_minor": 4
}
