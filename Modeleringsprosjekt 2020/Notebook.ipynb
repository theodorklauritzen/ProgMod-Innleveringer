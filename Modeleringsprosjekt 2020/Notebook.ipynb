{
 "cells": [
  {
   "cell_type": "markdown",
   "metadata": {},
   "source": [
    "# Modeleringsprosjekt 2020\n",
    "\n",
    "# Oppagve 5: Numerisk integrasjon"
   ]
  },
  {
   "cell_type": "markdown",
   "metadata": {},
   "source": [
    "Integrasjon er en metode i mattematikk mankan bruke på å finne arealet under grafen.  I analytisk matte bruker man anti-derivasjon til å finne dette arealet, men i numerisk matte er det flere utlike metoder.  I numerisk matte holder man seg kun til bestemte integraler.  Dette betyr at man integrerer en funksjon i et interval.  Da finner man arealet under grafen til funksjonen i dette intervallet.  Under skal vi se ulike metoder for å gjøre dette."
   ]
  },
  {
   "cell_type": "markdown",
   "metadata": {},
   "source": [
    "## Rektangelmetoden\n",
    "\n",
    "### Teori\n",
    "\n",
    "Rektangelmetoden gåut ut på at man setter rektangler under grafen med en liten bredde og en høyde tilsvarende funksjonsverdien i et punkt.  Legger man sammen arealet av disse rektanglene får man noe som tilsvarer arealet under grafen.  Og hvis man lar antall rektangler gå mot uendelig vil arealet av dem nærme seg arealet under grafen.  Denne metoden for å finne det bestemte integralet kales Riemann sum.\n",
    "\n",
    "<img src=\"https://upload.wikimedia.org/wikipedia/commons/thumb/c/c9/LeftRiemann2.svg/1280px-LeftRiemann2.svg.png\" alt=\"Riemann sum illustrasjon\" style=\"width: 200px; float: left\"/>\n",
    "Figuren er en illustrasjon av at rektangler under grafen kan tilnærme arealet under grafen."
   ]
  },
  {
   "cell_type": "markdown",
   "metadata": {},
   "source": [
    "Det mattematiske uttrykket for dette vil være slik:\n",
    "\n",
    "$$\\int_{a}^{b} {f(x) dx} \\approx \\lim_{N \\rightarrow \\infty} (\\Delta x \\sum_{i = 0}^{N} {f(a + i * \\Delta x)})$$\n",
    "\n",
    "Der:\n",
    "\n",
    "$$\\Delta x = \\frac{b - a}{N}$$\n",
    "\n",
    "I disse uttrykkene representerer $N$ antall rektangler, $a$ er starten på det bestemte integralet, $b$ er slutten på det bestemte integralet og $\\Delta x$ er bredden på rektangelene.\n",
    "\n",
    "I summen over har vi faktoriser ut $\\Delta x$, siden dette er en faktor i alle leddene.  Dette vil føre til et mer effektivt program.  Arealet av et rektangel er gitt ved $A = l * b$.  Her er bredden $\\Delta x$ og lengden er høyden til grafen i et punkt, altså $f(a + i * \\Delta x)$"
   ]
  },
  {
   "cell_type": "markdown",
   "metadata": {},
   "source": [
    "### Kode"
   ]
  },
  {
   "cell_type": "code",
   "execution_count": 1,
   "metadata": {},
   "outputs": [],
   "source": [
    "def RektangelMetoden(f, a, b, N = 100000):\n",
    "    # f : En funksjon å integrere\n",
    "    # a : Starten på det bestemte integralet\n",
    "    # b : Slutten på det bestemte integralet\n",
    "    # N : Antall rektangler\n",
    "    \n",
    "    # Bredden per rektangel\n",
    "    dx = (b - a) / N\n",
    "    \n",
    "    # Arealet under grafen\n",
    "    A = 0\n",
    "    \n",
    "    # Loop gjennom alle rekangelene\n",
    "    for i in range(N):\n",
    "        # Legg sammen høyden i rektanglene\n",
    "        A += f(a + i * dx)\n",
    "    \n",
    "    # Multipliser med bredden per integral for å finne arealet\n",
    "    A *= dx\n",
    "\n",
    "    # returner arealet under grafen f\n",
    "    return A"
   ]
  },
  {
   "cell_type": "markdown",
   "metadata": {},
   "source": [
    "Dette kan vi teste med en enkel funksjon som $f(x) = x^2$"
   ]
  },
  {
   "cell_type": "code",
   "execution_count": 2,
   "metadata": {},
   "outputs": [
    {
     "name": "stdout",
     "output_type": "stream",
     "text": [
      "2.333318333350027\n"
     ]
    }
   ],
   "source": [
    "def f(x):\n",
    "    return x**2\n",
    "\n",
    "Areal = RektangelMetoden(f, 1, 2)\n",
    "print(Areal)"
   ]
  },
  {
   "cell_type": "markdown",
   "metadata": {},
   "source": [
    "Dette svaret er nærme det analytiske svaret som er på $\\frac{7}{3} \\approx 2.3333333333333$"
   ]
  },
  {
   "cell_type": "markdown",
   "metadata": {},
   "source": [
    "### Ulikt antall rektangler\n",
    "Hvor nærme vi kommer avgjøres av funksjonen og hvor mange rektangler vi har.  Under prøver vi andre funksjoner med ulikt antall rektangler."
   ]
  },
  {
   "cell_type": "code",
   "execution_count": 3,
   "metadata": {},
   "outputs": [
    {
     "name": "stdout",
     "output_type": "stream",
     "text": [
      "Antall rektangler | f(x)       | g(x)       | h(x) \n",
      "------------------+------------+------------+------------\n",
      "                1 | 2.0000000  | -4.0000000 | 0.4000000  \n",
      "               10 | 7.8800000  | 1.4000000  | 0.8070029  \n",
      "              100 | 8.5868000  | 1.9400000  | 0.8596309  \n",
      "             1000 | 8.6586680  | 1.9940000  | 0.8650172  \n",
      "            10000 | 8.6658667  | 1.9994000  | 0.8655570  \n",
      "           100000 | 8.6665867  | 1.9999400  | 0.8656110  \n",
      "          1000000 | 8.6666587  | 1.9999940  | 0.8656164  \n"
     ]
    }
   ],
   "source": [
    "def g(x):\n",
    "    return 3 * x - 5\n",
    "\n",
    "def h(x):\n",
    "    return 0.1 * 2 ** x\n",
    "\n",
    "a = 1\n",
    "b = 3\n",
    "\n",
    "print(\"Antall rektangler | f(x)       | g(x)       | h(x) \")\n",
    "print(\"------------------+------------+------------+------------\")\n",
    "\n",
    "for i in range(7):\n",
    "    rektangler = 10 ** i\n",
    "    fverdi = RektangelMetoden(f, a, b, rektangler)\n",
    "    gverdi = RektangelMetoden(g, a, b, rektangler)\n",
    "    hverdi = RektangelMetoden(h, a, b, rektangler)\n",
    "    \n",
    "    print(\"{:>17} | {:<10.7f} | {:<10.7f} | {:<10.7f} \".format(rektangler, fverdi, gverdi, hverdi))"
   ]
  },
  {
   "cell_type": "markdown",
   "metadata": {},
   "source": [
    "De analytiske svaret for f(x) er $\\frac{26}{3} \\approx 8.666666667$, for g(x) er det $2$ og for h(x) er det $\\approx 0.8656170245333$\n",
    "\n",
    "Vi ser tydelig at desto flere rektangler vi har desto nærmere komme vi det analytiske svaret.  Likevel på grunn av at float tall kan bli upresiste med mange desimaler, kan det hende at hvis $\\Delta x$ blir alt for liten kan den bli mindr epresis igjen."
   ]
  },
  {
   "cell_type": "markdown",
   "metadata": {},
   "source": [
    "### Variasjoner av metoden\n",
    "\n",
    "<img src=\"https://upload.wikimedia.org/wikipedia/commons/thumb/4/45/RightRiemann2.svg/1280px-RightRiemann2.svg.png\" style=\"width: 200px; float: left;\">For å forbedre metoden kan man flytte på punktet der man måler høyden.  Firguren til venstre er et eksempel der man måler høyden på grafen på høyre siden av rektangelet i steden for på venstre siden.  Ved å kombinere ulike metoder kan mna få et enda mer presist resultat.  En kode med støtte for dette kan se slik ut"
   ]
  },
  {
   "cell_type": "code",
   "execution_count": 5,
   "metadata": {},
   "outputs": [],
   "source": [
    "def RektangelMetoden(f, a, b, N = 100000, regel = \"venstre\"):\n",
    "    # f : En funksjon å integrere\n",
    "    # a : Starten på det bestemte integralet\n",
    "    # b : Slutten på det bestemte integralet\n",
    "    # N : Antall rektangler\n",
    "    # regel : Hvor man skal regne ut høyden [\"venstre\" (Standard) | \"midten\" | \"hoyre\" | float mellom 0 og 1]\n",
    "\n",
    "    # Regne ut hva man må legge til i for å regne høyden på riktig sted\n",
    "    i_regel = 0\n",
    "    if type(regel) == float and 0 <= regel and regel <= 1:\n",
    "        i_regel = regel\n",
    "    elif regel.lower() == \"midten\":\n",
    "        i_regel = 0.5\n",
    "    elif regel.lower() == \"hoyre\":\n",
    "        i_regel = 1\n",
    "    elif regel.lower() != \"venstre\":\n",
    "        # Kast en feil melding hvis regel argumentet er brukt feil\n",
    "        raise Exception(f\"Regel må være [\\\"venstre\\\" (Standard) | \\\"midten\\\" | \\\"hoyre\\\" | float mellom 0 og 1], men det ble spesifisert {regel}\")\n",
    "\n",
    "    # Bredden per rektangel\n",
    "    dx = (b - a) / N\n",
    "    # Arealet under grafen\n",
    "    A = 0\n",
    "\n",
    "    # Loop gjennom alle rekangelene\n",
    "    for i in range(N):\n",
    "        # Legg sammen høyden i rektanglene\n",
    "        A += f(a + (i + i_regel) * dx)\n",
    "\n",
    "    # Multipliser med bredden per integral for å finne arealet\n",
    "    A *= dx\n",
    "\n",
    "    # returner arealet under grafen f\n",
    "    return A"
   ]
  },
  {
   "cell_type": "markdown",
   "metadata": {},
   "source": [
    "Over kan vi se at om vi spesifiserer venstre får vi samme resultat som tidligere, men hvis vi spesifiserer midten måler vi på midten, eller på høyre side hvis vi spesiferer hoyre.  Under kan vi se resultatet av dette."
   ]
  },
  {
   "cell_type": "code",
   "execution_count": 6,
   "metadata": {},
   "outputs": [
    {
     "name": "stdout",
     "output_type": "stream",
     "text": [
      "Venstre: 0.3333283333499996\n",
      "Midten : 0.3333333333249928\n",
      "Hoyre  : 0.3333383333499996\n"
     ]
    }
   ],
   "source": [
    "print(\"Venstre:\", RektangelMetoden(f, 0, 1, regel = \"venstre\"))\n",
    "print(\"Midten :\", RektangelMetoden(f, 0, 1, regel = \"midten\"))\n",
    "print(\"Hoyre  :\", RektangelMetoden(f, 0, 1, regel = \"hoyre\"))"
   ]
  },
  {
   "cell_type": "markdown",
   "metadata": {},
   "source": [
    "Her ser vi at resultatet er veldig likt, men dersom vi senker antall rektangler får vi ganske ulike svar."
   ]
  },
  {
   "cell_type": "code",
   "execution_count": 7,
   "metadata": {},
   "outputs": [
    {
     "name": "stdout",
     "output_type": "stream",
     "text": [
      "Venstre: 0.24000000000000005\n",
      "Midten : 0.33000000000000007\n",
      "Hoyre  : 0.44000000000000006\n"
     ]
    }
   ],
   "source": [
    "print(\"Venstre:\", RektangelMetoden(f, 0, 1, 5, \"venstre\"))\n",
    "print(\"Midten :\", RektangelMetoden(f, 0, 1, 5, \"midten\"))\n",
    "print(\"Hoyre  :\", RektangelMetoden(f, 0, 1, 5, \"hoyre\"))"
   ]
  },
  {
   "cell_type": "markdown",
   "metadata": {},
   "source": [
    "## Trapesmetoden\n",
    "\n",
    "### Teori\n",
    "\n",
    "<img src=\"https://upload.wikimedia.org/wikipedia/commons/thumb/7/76/TrapRiemann2.svg/1280px-TrapRiemann2.svg.png\" style=\"width: 200px; float: left;\">Trapesmetoden er veldig lik rektangelmetoden, men i steden for rektangler bruker den trapeser.  Vi kan tenke oss at man bruker rektangelmetoden og legger til en rettvinklet trekant øverst på hvert regktangel.  Da vil man få et mer presist resultat, enn med rektangelmetoden.  En illustrasjon av dette ser du til venstre."
   ]
  },
  {
   "cell_type": "markdown",
   "metadata": {},
   "source": [
    "For å uttrykke dette mattematisk får vi dette uttrykket:\n",
    "$$\\int_{a}^{b} f(x) dx \\approx \\lim_{N \\rightarrow \\infty} (\\frac{\\Delta x}{2} \\sum_{i = 0}^{N} (f(a + i * \\Delta x) + f(a + (i + 1) * \\Delta x)))$$\n",
    "\n",
    "Igjen er $\\Delta x = \\frac{b - a}{N}$\n",
    "\n",
    "Vi har også faktorisert ut $\\frac{\\Delta x}{2}$ fra summne siden det er en faktor i alle leddene.\n",
    "\n",
    "Uttrykket for arealet av et trapes er $A = \\frac{(a + b) * h}{2}$.  Over er $a = f(a + i * \\Delta x)$ og $b = f(a + (i + 1) * \\Delta x)$ og $h = \\Delta x$"
   ]
  },
  {
   "cell_type": "markdown",
   "metadata": {},
   "source": [
    "### Kode\n",
    "\n",
    "Før vi skal kode dette er det en del forandreinger vi bør gjøre på uttrykket for å få koden mer effektiv.  Med summen over må vi kalkulere hvert punkt to ganger.  Dette er ikke nødvendig og vi kan korte det ned med å kalkulere hvert punkt en gang og multiplisere svaret med 2.  Dette gjelder ikke punktene i x = a og x = b.  Så da må summnen utelukke sidde verdiene.  Da kan vi skrive det om slik:\n",
    "\n",
    "$$\\frac{\\Delta x}{2} \\sum_{i = 0}^{N} (f(a + i * \\Delta x) + f(a + (i + 1) * \\Delta x)) = \\frac{\\Delta x}{2} ( f(a) + f(b) + \\sum_{i = 1}^{N - 1} 2 * f(a + i * \\Delta x))$$\n",
    "\n",
    "Videre for å gjøre få det til å bli enda raskere å kode kan vi faktorisere ut 2 siden dette er en felles faktor i alle leddene.  Dette gjelder heller ikke f(a) og f(b) så disse deler vi på 2.  Når vi først har faktorisert ut 2 får vi $\\frac{\\Delta x}{2} * 2$ som en felles faktor.  Her kan vi forkorte 2-erene mot hverandre.  Da får vi kun $\\Delta x$ som felles faktor.  Hele uttrykket blir da seende slik ut:\n",
    "\n",
    "$$\\frac{\\Delta x}{2} ( f(a) + f(b) + \\sum_{i = 1}^{N - 1} 2 * f(a + i * \\Delta x)) = \\Delta x * (\\frac{f(a) + f(b)}{2} + \\sum_{i = 1}^{N - 1} f(a + i * \\Delta x))$$\n",
    "\n",
    "Det uttrykket vi da får vil gi oss det mest effektive programmet."
   ]
  },
  {
   "cell_type": "code",
   "execution_count": 8,
   "metadata": {},
   "outputs": [],
   "source": [
    "def TrapesMetoden(f, a, b, N = 100000):\n",
    "    # f : En funksjon å integrere\n",
    "    # a : Starten på det bestemte integralet\n",
    "    # b : Slutten på det bestemte integralet\n",
    "    # N : Antall trapeser\n",
    "\n",
    "    # Bredden per trapes\n",
    "    dx = (b - a) / N\n",
    "    # Arealet under grafen\n",
    "    A = (f(a) + f(b)) / 2\n",
    "\n",
    "    # Loop gjennom alle trapesene\n",
    "    for i in range(1, N):\n",
    "        # Legg sammen høyden i rektanglene\n",
    "        A += f(a + i * dx)\n",
    "\n",
    "    # Multipliser med bredden\n",
    "    A *= dx\n",
    "\n",
    "    # returner arealet under grafen f\n",
    "    return A"
   ]
  },
  {
   "cell_type": "code",
   "execution_count": 9,
   "metadata": {},
   "outputs": [
    {
     "name": "stdout",
     "output_type": "stream",
     "text": [
      "2.333333333350027\n"
     ]
    }
   ],
   "source": [
    "Areal = TrapesMetoden(f, 1, 2)\n",
    "print(Areal)"
   ]
  },
  {
   "cell_type": "markdown",
   "metadata": {},
   "source": [
    "Med denne enkle testen som vi også brukte på rektangelmetoden ser vi at Trapesmetoden er mer presis enn rektangelmetoden.  Og her kommer vi nærmere $\\frac{7}{3}$ enn vi gjorde i stad."
   ]
  },
  {
   "cell_type": "markdown",
   "metadata": {},
   "source": [
    "## Simpsons metode\n",
    "\n",
    "### Teori\n",
    "\n",
    "<img src=\"https://upload.wikimedia.org/wikipedia/commons/thumb/c/ca/Simpsons_method_illustration.svg/1024px-Simpsons_method_illustration.svg.png\" style=\"width: 200px; float: left\">\n",
    "\n",
    "Simpsonsmetode prøver igjen å være enda mer prsis enn trapesmetoden.  Trapesmetoden finner en rett linje gjennom to punkter på grafen som er veldig nærme hverandre.  Simpsons metode vil da den lneger å finne et andregradsuttrykk $P(x)$ som går gjennom 3 punkter veldig nærme hverandre på grafen $f(x)$.\n",
    "\n",
    "Vi kan kalle disse punktene $a$, $m$ og $b$.  $m$ ligger midt i mellom $a$ og $b$.  Avstanden mellom $a$ og $b$ kan vi kalle $2 * h$.  På figuren til venstre ser vi en illustrasjon av dette.\n",
    "\n",
    "Siden vi vet at $P(x)$ er et andregradsuttrykk kan vi skrive det på en generell form.\n",
    "\n",
    "$$P(x) = A * x^2 + B * x + C$$\n",
    "\n",
    "Da ser vi at vi må finne et uttrykk for $A$, $B$ og $C$ som gjør at $P(x)$ går gjennom alle punktene.\n",
    "\n",
    "For å gjøre det enklere kan vi si at $m = 0$, da vil $a = -h$ og $b = h$\n",
    "\n",
    "Da vet vi at $C = f(m)$, siden $P(m) = P(0) = C = f(m)$\n",
    "\n",
    "Vi kan vider si dette:\n",
    "\n",
    "$$f(a) = P(a) = A * h^2 - B * h + f(m)$$\n",
    "$$f(b) = P(b) = A * h^2 + B * h + f(m)$$\n",
    "\n",
    "Setter vi da inn det første uttrykket i det andre får vi:\n",
    "\n",
    "$$A = \\frac{f(b) - B * h - f(m)}{h^2}$$\n",
    "\n",
    "Setter vi videre det andre uttrykket inn i det første gitt at det over stemmer finner vi at $B$ er dette:\n",
    "\n",
    "$$B = \\frac{f(b) - f(a)}{2 * h}$$\n",
    "\n",
    "Setter vi videre inn $B$ i uttrykket med $A$, får vi dette:\n",
    "\n",
    "$$A = \\frac{f(a) - 2 * f(m) + f(b)}{2 * h^2}$$\n",
    "\n",
    "Uttrykket $P(x)$ blir da slik:\n",
    "\n",
    "$$P(x) = \\frac{f(a) - 2 * f(m) + f(b)}{2 * h^2}x^2 + \\frac{f(b) - f(a)}{2}x + f(m)$$\n",
    "\n",
    "Da har vi et uttrykk for $P(x)$ og dette kan vi analytisk integrere for å finne arealet under $P(x)$ i intervallet $[a, b].  Dette gjør vi analytisk slik.$\n",
    "\n",
    "$$\\int_{-h}^{h} P(x) dx = \\int_{-h}^{h} (A x^2 + B x + C) dx  = [\\frac{1}{3} A x^3 + \\frac{1}{2} B x^2 + c x]_{-h}^{h} = \\frac{1}{3} A h^3 + \\frac{1}{2} B h^2 + c h + \\frac{1}{3} A h^3 - \\frac{1}{2} B h^2 + c h = \\frac{2}{3} A h^3 + 2 C h$$\n",
    "\n",
    "Så setetr vi inn $A$, $B$ og $C$ og får dette:\n",
    "\n",
    "$$\\frac{2}{3} * \\frac{f(a) - 2 * f(m) + f(b)}{2 * h^2} * h^3 + 2 f(m) h = \\frac{h}{3} * (f(a) + 4f(m) + f(b))$$\n",
    "\n",
    "Da har vi et uttrykk for å finne arealet under en smal figur, for å få dette presist må vi som med rektangel og trapesmetoden legge sammen mange små skiver av denne figuren for å kunne integrere en funksjon.  Da får vi denne summen.\n",
    "\n",
    "$$\\int_{a}^{b} f(x) dx \\approx \\lim_{N \\rightarrow \\infty} (\\frac{h}{3} \\sum_{i = 0}^{N} (f(a + i * 2 * h) + 4f(a + (i * 2 + 1) * h) + f(a + (i * 2 + 2) * h)))$$\n",
    "\n",
    "Der:\n",
    "\n",
    "$$2h = \\frac{b - a}{N}$$"
   ]
  },
  {
   "cell_type": "markdown",
   "metadata": {},
   "source": [
    "### Kode\n",
    "\n",
    "Dette uttrykket er greit å lese, men bør endres litt for å få et effektivt program.  Da kan vi først se at også her er det mange verdier der vi regner ut $f(x)$ av samme verdi to ganger.  Dette gjelder igjen ikke $f(a)$ og $f(b)$.  Så derfor kan vi korte ned summen i begge ender.  Da må vi også huske å legge til leddet i midten.  Da får vi et uttrykk som dette:\n",
    "\n",
    "$$\\frac{h}{3} \\sum_{i = 0}^{N} (f(a + i * 2 * h) + 4f(a + (i * 2 + 1) * h) + f(a + (i * 2 + 2) * h)) = \\frac{h}{3} * (f(a) + 4f(a + h) + f(b) + \\sum_{i = 1}^{N - 1} (2f(a + i * 2 * h) + 4f(a + (i * 2 + 1) * h)))$$\n",
    "\n",
    "Her kunne vi også hatt $4f(b - h)$ uten for summen, og inni summen hatt $4f(a + (i * 2 - 1) * h)$ isteden for $4f(a + (i * 2 + 1) * h)$, men her er det hipp som happ hva man velger."
   ]
  },
  {
   "cell_type": "code",
   "execution_count": 10,
   "metadata": {},
   "outputs": [],
   "source": [
    "def SimpsonsMetode(f, a, b, N = 100000):\n",
    "    # f : En funksjon å integrere\n",
    "    # a : Starten på det bestemte integralet\n",
    "    # b : Slutten på det bestemte integralet\n",
    "    # N : Antall søyler\n",
    "\n",
    "    # Bredden per søyle\n",
    "    h = (b - a) / (2 * N)\n",
    "    # Arealet under grafen\n",
    "    A = f(a) + 4 * f(a + h) + f(b)\n",
    "\n",
    "    for i in range(1, N):\n",
    "        A += 2 * f(a + i * 2 * h) + 4 * f(a + (i * 2 + 1) * h)\n",
    "\n",
    "    # Multipliser med h / 3\n",
    "    A *= h / 3\n",
    "\n",
    "    # returner arealet under grafen f\n",
    "    return A"
   ]
  },
  {
   "cell_type": "code",
   "execution_count": 11,
   "metadata": {},
   "outputs": [
    {
     "name": "stdout",
     "output_type": "stream",
     "text": [
      "2.333333333333348\n"
     ]
    }
   ],
   "source": [
    "Areal = SimpsonsMetode(f, 1, 2)\n",
    "print(Areal)"
   ]
  },
  {
   "cell_type": "markdown",
   "metadata": {},
   "source": [
    "Denne enkle testen vi har brukt på de tidligere metodene, viser igjen at Simpsonsmetode er enda mer presis enn både Trapesmetoden og rektangelmetoden.  Dette er enda nærmere $\\frac{7}{3}$ som er det analytiske svaret."
   ]
  },
  {
   "cell_type": "code",
   "execution_count": 12,
   "metadata": {},
   "outputs": [
    {
     "name": "stdout",
     "output_type": "stream",
     "text": [
      "2.333333333333333\n"
     ]
    }
   ],
   "source": [
    "Areal = SimpsonsMetode(f, 1, 2, 1)\n",
    "print(Areal)"
   ]
  },
  {
   "cell_type": "markdown",
   "metadata": {},
   "source": [
    "Her er det verdt å merke seg at siden $f(x)$ er et andregradsuttrykk, vil simpsonsmetode finne dette uttrykket og danne den formen for hvert av søylene den kalkulerer arealet til.  Derfor holder det med en søyle for å finne integralet til et andregradsuttrykk."
   ]
  },
  {
   "cell_type": "code",
   "execution_count": null,
   "metadata": {},
   "outputs": [],
   "source": []
  }
 ],
 "metadata": {
  "kernelspec": {
   "display_name": "Python 3",
   "language": "python",
   "name": "python3"
  },
  "language_info": {
   "codemirror_mode": {
    "name": "ipython",
    "version": 3
   },
   "file_extension": ".py",
   "mimetype": "text/x-python",
   "name": "python",
   "nbconvert_exporter": "python",
   "pygments_lexer": "ipython3",
   "version": "3.7.4"
  }
 },
 "nbformat": 4,
 "nbformat_minor": 4
}
