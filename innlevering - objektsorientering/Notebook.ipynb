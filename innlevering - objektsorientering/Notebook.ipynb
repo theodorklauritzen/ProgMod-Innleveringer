{
 "cells": [
  {
   "cell_type": "markdown",
   "metadata": {},
   "source": [
    "# Grunnstoffer og bindingstyper"
   ]
  },
  {
   "cell_type": "markdown",
   "metadata": {},
   "source": [
    "Det første vi trenger er å lage en klasse som lagrer data om enkelte grunnstoffer.  For å svare på oppgaven mp klassen ha disse attributene `a_num` for atomnummeret, `sym` for symbolet, `navn` som er navnet, `masse` som er atommassen i u og `el_neg` som er elektronnegativiteten.  En slik klasse kan se sånn ut. "
   ]
  },
  {
   "cell_type": "code",
   "execution_count": 1,
   "metadata": {},
   "outputs": [],
   "source": [
    "class Grunnstoff:\n",
    "    # En klasse til å lagre inforamsjon om grunnstoffer\n",
    "    \n",
    "    def __init__(self, a_num, sym, navn, masse, el_neg):\n",
    "        self.a_num  = a_num  # Atomnummer\n",
    "        self.sym    = sym    # Atom symbol\n",
    "        self.navn   = navn   # Atom navn\n",
    "        self.masse  = masse  # Atommasse, målt i u\n",
    "        self.el_neg = el_neg # Elektronnegativitet"
   ]
  },
  {
   "cell_type": "markdown",
   "metadata": {},
   "source": [
    "Likevel vil denne metoden bli litt klønete fordi vi må sette inn data fra mange forskjellige grunnstoffer.  Derfor kan vi bruke en api i stedet, og la konstruktøren ta et argument."
   ]
  },
  {
   "cell_type": "code",
   "execution_count": 2,
   "metadata": {},
   "outputs": [],
   "source": [
    "import requests\n",
    "\n",
    "API_URL = \"https://neelpatel05.pythonanywhere.com/element/atomicnumber?atomicnumber=\"\n",
    "\n",
    "def fetchGrunnstoff(a_num):\n",
    "    # En fuksjon som bruker en API til å slå opp data om grunnstoffer\n",
    "    # a_num : Atomnummer\n",
    "    \n",
    "    res = requests.get(API_URL + str(a_num))\n",
    "    \n",
    "    if res.status_code  != 200:\n",
    "        raise Exception(\"Noe gikk galt, så programmet gir opp.  Dette er grunnen til at man burde følge KISS prinsippet, keep it simple stupid!\")\n",
    "        \n",
    "    ret = res.json()\n",
    "    \n",
    "    if (\"messgae\" in ret and ret[\"message\"]  == \"does not exists\"):\n",
    "        raise Exception(\"This grunnstoff is not unlocked yet!  Complete level 118 first and look at the progress at http://hasthelargehadroncolliderdestroyedtheworldyet.com/\")\n",
    "    \n",
    "    return ret\n",
    "    \n",
    "class Grunnstoff:\n",
    "    # En klasse til å lagre inforamsjon om grunnstoffer\n",
    "    \n",
    "    def __init__(self, a_num):\n",
    "        # a_num : atomnummer\n",
    "        apiRes = fetchGrunnstoff(a_num)\n",
    "        \n",
    "        self.a_num  = apiRes['atomicNumber']\n",
    "        self.sym    = apiRes['symbol']\n",
    "        self.navn   = apiRes['name']\n",
    "        self.masse  = apiRes['atomicMass']\n",
    "        self.el_neg = apiRes['electronegativity']\n",
    "        "
   ]
  },
  {
   "cell_type": "markdown",
   "metadata": {},
   "source": [
    "Videre lager vi noen instanser av klassen.  Siden vi bruker en api tar nok dette litt lenger tid enn vanlig, men da slipper vi self å hardkode alt inn som vi sparer tid på senere."
   ]
  },
  {
   "cell_type": "code",
   "execution_count": 3,
   "metadata": {},
   "outputs": [],
   "source": [
    "C  = Grunnstoff(6)\n",
    "Li = Grunnstoff(3)\n",
    "F  = Grunnstoff(9)\n",
    "Br = Grunnstoff(35)\n",
    "Cl = Grunnstoff(17)\n",
    "K  = Grunnstoff(19)\n",
    "O  = Grunnstoff(8)\n",
    "H  = Grunnstoff(1)"
   ]
  },
  {
   "cell_type": "markdown",
   "metadata": {},
   "source": [
    "Videre må vi finne ut hvilken bindingstype det blir mellom to atomer.  Modellen vi skal bruke er ikke veldig nøyaktig, men nøyaktig nok for vårt bruk.  Da se vi på differansen i elektronnegativitet mellom atomene og bruker tabellen under til å avgjøre hvilken binding vi får.\n",
    "\n",
    "| Forskjell i elektronegativitet | Type binding |\n",
    "|--------------------------------|--------------|\n",
    "| $\\Delta \\geq 2.0$ | Ionisk |\n",
    "| $2.0 > \\Delta > 1.6$ | Mellom ionisk og polar kovalent |\n",
    "| $1.6 \\geq \\Delta \\geq 0.5$ | Polar kovalent |\n",
    "| $0.5 > \\Delta > 0.3$ | Mellom polar og upolar kovanlent |\n",
    "| $0.3 \\geq \\Delta$ | Upolar kovalent | \n",
    "\n",
    "Legg merke til at den nederste raden ikke er lik som i oppgaven, av den grunn av at jeg tror oppgaveteksten har blanda to tegn.\n",
    "\n",
    "Funksjonen blir slik:"
   ]
  },
  {
   "cell_type": "code",
   "execution_count": 4,
   "metadata": {},
   "outputs": [],
   "source": [
    "def bindingstype(grunnstoff1, grunnstoff2):\n",
    "    # En fuksjon til å finne ut bindingstypen mellom to atomer\n",
    "    #\n",
    "    # grunnstoff1 : Et grunnstoff\n",
    "    # grunnstoff2 : Et grunnstoff\n",
    "    \n",
    "    d = abs(grunnstoff1.el_neg - grunnstoff2.el_neg) # Differansen i elektronnegativitet\n",
    "    \n",
    "    if d >= 2.0:\n",
    "        return \"Ionisk\"\n",
    "    if d >  1.6:\n",
    "        return \"Mellom ionisk og polar kovalent\"\n",
    "    if d >= 0.5:\n",
    "        return \"Polar kovalent\"\n",
    "    if d > 0.3:\n",
    "        return \"Mellom polar og upolar kovalent\"\n",
    "    return \"Upolar Kovalent\""
   ]
  },
  {
   "cell_type": "markdown",
   "metadata": {},
   "source": [
    "Videre kan vi bruke programmet vårt til å finne ut hvilke bindingstyper det er mellom to atomer."
   ]
  },
  {
   "cell_type": "code",
   "execution_count": 5,
   "metadata": {},
   "outputs": [
    {
     "name": "stdout",
     "output_type": "stream",
     "text": [
      "LiF   : Ionisk\n",
      "BrCl  : Upolar Kovalent\n",
      "K2O   : Ionisk\n",
      "CH4   : Mellom polar og upolar kovalent\n"
     ]
    }
   ],
   "source": [
    "print(\"LiF   :\", bindingstype(Li, F))\n",
    "print(\"BrCl  :\", bindingstype(Br, Cl))\n",
    "print(\"K2O   :\", bindingstype(K, O))\n",
    "print(\"CH4   :\", bindingstype(C, H))"
   ]
  },
  {
   "cell_type": "code",
   "execution_count": null,
   "metadata": {},
   "outputs": [],
   "source": []
  }
 ],
 "metadata": {
  "kernelspec": {
   "display_name": "Python 3",
   "language": "python",
   "name": "python3"
  },
  "language_info": {
   "codemirror_mode": {
    "name": "ipython",
    "version": 3
   },
   "file_extension": ".py",
   "mimetype": "text/x-python",
   "name": "python",
   "nbconvert_exporter": "python",
   "pygments_lexer": "ipython3",
   "version": "3.7.4"
  }
 },
 "nbformat": 4,
 "nbformat_minor": 4
}
